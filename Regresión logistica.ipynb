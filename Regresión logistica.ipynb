{
 "cells": [
  {
   "cell_type": "code",
   "execution_count": 126,
   "id": "5c9772c9-05e4-45b4-aba2-dba8b2ad5de9",
   "metadata": {},
   "outputs": [],
   "source": [
    "# 1 Realizar un análisis exploratorio de los datos para identificar relaciones entre variables, valores atípicos, tendencias, etc."
   ]
  },
  {
   "cell_type": "code",
   "execution_count": 198,
   "id": "03413927-ee09-4c0c-9a71-ba5716a68425",
   "metadata": {},
   "outputs": [],
   "source": [
    "import pandas as pd\n",
    "import numpy as np\n",
    "import seaborn as sns\n",
    "import matplotlib.pyplot as plt\n",
    "\n",
    "from sklearn import metrics\n",
    "from sklearn.model_selection import train_test_split\n",
    "from sklearn.linear_model import LogisticRegression\n",
    "from sklearn.metrics import classification_report, confusion_matrix"
   ]
  },
  {
   "cell_type": "code",
   "execution_count": 173,
   "id": "2c24b095-59d9-466a-9bf6-3f03696d688e",
   "metadata": {},
   "outputs": [],
   "source": [
    "Archivo = pd.read_csv(\"./heart_cleveland_upload.csv\")"
   ]
  },
  {
   "cell_type": "code",
   "execution_count": 105,
   "id": "bdc99307-6c6d-4739-aa6f-0dbbcd8be448",
   "metadata": {},
   "outputs": [
    {
     "data": {
      "text/html": [
       "<div>\n",
       "<style scoped>\n",
       "    .dataframe tbody tr th:only-of-type {\n",
       "        vertical-align: middle;\n",
       "    }\n",
       "\n",
       "    .dataframe tbody tr th {\n",
       "        vertical-align: top;\n",
       "    }\n",
       "\n",
       "    .dataframe thead th {\n",
       "        text-align: right;\n",
       "    }\n",
       "</style>\n",
       "<table border=\"1\" class=\"dataframe\">\n",
       "  <thead>\n",
       "    <tr style=\"text-align: right;\">\n",
       "      <th></th>\n",
       "      <th>age</th>\n",
       "      <th>sex</th>\n",
       "      <th>cp</th>\n",
       "      <th>trestbps</th>\n",
       "      <th>chol</th>\n",
       "      <th>fbs</th>\n",
       "      <th>restecg</th>\n",
       "      <th>thalach</th>\n",
       "      <th>exang</th>\n",
       "      <th>oldpeak</th>\n",
       "      <th>slope</th>\n",
       "      <th>ca</th>\n",
       "      <th>thal</th>\n",
       "      <th>condition</th>\n",
       "    </tr>\n",
       "  </thead>\n",
       "  <tbody>\n",
       "    <tr>\n",
       "      <th>0</th>\n",
       "      <td>69</td>\n",
       "      <td>1</td>\n",
       "      <td>0</td>\n",
       "      <td>160</td>\n",
       "      <td>234</td>\n",
       "      <td>1</td>\n",
       "      <td>2</td>\n",
       "      <td>131</td>\n",
       "      <td>0</td>\n",
       "      <td>0.1</td>\n",
       "      <td>1</td>\n",
       "      <td>1</td>\n",
       "      <td>0</td>\n",
       "      <td>0</td>\n",
       "    </tr>\n",
       "    <tr>\n",
       "      <th>1</th>\n",
       "      <td>69</td>\n",
       "      <td>0</td>\n",
       "      <td>0</td>\n",
       "      <td>140</td>\n",
       "      <td>239</td>\n",
       "      <td>0</td>\n",
       "      <td>0</td>\n",
       "      <td>151</td>\n",
       "      <td>0</td>\n",
       "      <td>1.8</td>\n",
       "      <td>0</td>\n",
       "      <td>2</td>\n",
       "      <td>0</td>\n",
       "      <td>0</td>\n",
       "    </tr>\n",
       "    <tr>\n",
       "      <th>2</th>\n",
       "      <td>66</td>\n",
       "      <td>0</td>\n",
       "      <td>0</td>\n",
       "      <td>150</td>\n",
       "      <td>226</td>\n",
       "      <td>0</td>\n",
       "      <td>0</td>\n",
       "      <td>114</td>\n",
       "      <td>0</td>\n",
       "      <td>2.6</td>\n",
       "      <td>2</td>\n",
       "      <td>0</td>\n",
       "      <td>0</td>\n",
       "      <td>0</td>\n",
       "    </tr>\n",
       "    <tr>\n",
       "      <th>3</th>\n",
       "      <td>65</td>\n",
       "      <td>1</td>\n",
       "      <td>0</td>\n",
       "      <td>138</td>\n",
       "      <td>282</td>\n",
       "      <td>1</td>\n",
       "      <td>2</td>\n",
       "      <td>174</td>\n",
       "      <td>0</td>\n",
       "      <td>1.4</td>\n",
       "      <td>1</td>\n",
       "      <td>1</td>\n",
       "      <td>0</td>\n",
       "      <td>1</td>\n",
       "    </tr>\n",
       "    <tr>\n",
       "      <th>4</th>\n",
       "      <td>64</td>\n",
       "      <td>1</td>\n",
       "      <td>0</td>\n",
       "      <td>110</td>\n",
       "      <td>211</td>\n",
       "      <td>0</td>\n",
       "      <td>2</td>\n",
       "      <td>144</td>\n",
       "      <td>1</td>\n",
       "      <td>1.8</td>\n",
       "      <td>1</td>\n",
       "      <td>0</td>\n",
       "      <td>0</td>\n",
       "      <td>0</td>\n",
       "    </tr>\n",
       "    <tr>\n",
       "      <th>...</th>\n",
       "      <td>...</td>\n",
       "      <td>...</td>\n",
       "      <td>...</td>\n",
       "      <td>...</td>\n",
       "      <td>...</td>\n",
       "      <td>...</td>\n",
       "      <td>...</td>\n",
       "      <td>...</td>\n",
       "      <td>...</td>\n",
       "      <td>...</td>\n",
       "      <td>...</td>\n",
       "      <td>...</td>\n",
       "      <td>...</td>\n",
       "      <td>...</td>\n",
       "    </tr>\n",
       "    <tr>\n",
       "      <th>292</th>\n",
       "      <td>40</td>\n",
       "      <td>1</td>\n",
       "      <td>3</td>\n",
       "      <td>152</td>\n",
       "      <td>223</td>\n",
       "      <td>0</td>\n",
       "      <td>0</td>\n",
       "      <td>181</td>\n",
       "      <td>0</td>\n",
       "      <td>0.0</td>\n",
       "      <td>0</td>\n",
       "      <td>0</td>\n",
       "      <td>2</td>\n",
       "      <td>1</td>\n",
       "    </tr>\n",
       "    <tr>\n",
       "      <th>293</th>\n",
       "      <td>39</td>\n",
       "      <td>1</td>\n",
       "      <td>3</td>\n",
       "      <td>118</td>\n",
       "      <td>219</td>\n",
       "      <td>0</td>\n",
       "      <td>0</td>\n",
       "      <td>140</td>\n",
       "      <td>0</td>\n",
       "      <td>1.2</td>\n",
       "      <td>1</td>\n",
       "      <td>0</td>\n",
       "      <td>2</td>\n",
       "      <td>1</td>\n",
       "    </tr>\n",
       "    <tr>\n",
       "      <th>294</th>\n",
       "      <td>35</td>\n",
       "      <td>1</td>\n",
       "      <td>3</td>\n",
       "      <td>120</td>\n",
       "      <td>198</td>\n",
       "      <td>0</td>\n",
       "      <td>0</td>\n",
       "      <td>130</td>\n",
       "      <td>1</td>\n",
       "      <td>1.6</td>\n",
       "      <td>1</td>\n",
       "      <td>0</td>\n",
       "      <td>2</td>\n",
       "      <td>1</td>\n",
       "    </tr>\n",
       "    <tr>\n",
       "      <th>295</th>\n",
       "      <td>35</td>\n",
       "      <td>0</td>\n",
       "      <td>3</td>\n",
       "      <td>138</td>\n",
       "      <td>183</td>\n",
       "      <td>0</td>\n",
       "      <td>0</td>\n",
       "      <td>182</td>\n",
       "      <td>0</td>\n",
       "      <td>1.4</td>\n",
       "      <td>0</td>\n",
       "      <td>0</td>\n",
       "      <td>0</td>\n",
       "      <td>0</td>\n",
       "    </tr>\n",
       "    <tr>\n",
       "      <th>296</th>\n",
       "      <td>35</td>\n",
       "      <td>1</td>\n",
       "      <td>3</td>\n",
       "      <td>126</td>\n",
       "      <td>282</td>\n",
       "      <td>0</td>\n",
       "      <td>2</td>\n",
       "      <td>156</td>\n",
       "      <td>1</td>\n",
       "      <td>0.0</td>\n",
       "      <td>0</td>\n",
       "      <td>0</td>\n",
       "      <td>2</td>\n",
       "      <td>1</td>\n",
       "    </tr>\n",
       "  </tbody>\n",
       "</table>\n",
       "<p>297 rows × 14 columns</p>\n",
       "</div>"
      ],
      "text/plain": [
       "     age  sex  cp  trestbps  chol  fbs  restecg  thalach  exang  oldpeak  \\\n",
       "0     69    1   0       160   234    1        2      131      0      0.1   \n",
       "1     69    0   0       140   239    0        0      151      0      1.8   \n",
       "2     66    0   0       150   226    0        0      114      0      2.6   \n",
       "3     65    1   0       138   282    1        2      174      0      1.4   \n",
       "4     64    1   0       110   211    0        2      144      1      1.8   \n",
       "..   ...  ...  ..       ...   ...  ...      ...      ...    ...      ...   \n",
       "292   40    1   3       152   223    0        0      181      0      0.0   \n",
       "293   39    1   3       118   219    0        0      140      0      1.2   \n",
       "294   35    1   3       120   198    0        0      130      1      1.6   \n",
       "295   35    0   3       138   183    0        0      182      0      1.4   \n",
       "296   35    1   3       126   282    0        2      156      1      0.0   \n",
       "\n",
       "     slope  ca  thal  condition  \n",
       "0        1   1     0          0  \n",
       "1        0   2     0          0  \n",
       "2        2   0     0          0  \n",
       "3        1   1     0          1  \n",
       "4        1   0     0          0  \n",
       "..     ...  ..   ...        ...  \n",
       "292      0   0     2          1  \n",
       "293      1   0     2          1  \n",
       "294      1   0     2          1  \n",
       "295      0   0     0          0  \n",
       "296      0   0     2          1  \n",
       "\n",
       "[297 rows x 14 columns]"
      ]
     },
     "execution_count": 105,
     "metadata": {},
     "output_type": "execute_result"
    }
   ],
   "source": [
    "Archivo.head(300)"
   ]
  },
  {
   "cell_type": "code",
   "execution_count": 106,
   "id": "ce6cd231-e39e-46f0-900b-d323f88cc8a8",
   "metadata": {},
   "outputs": [
    {
     "data": {
      "text/html": [
       "<div>\n",
       "<style scoped>\n",
       "    .dataframe tbody tr th:only-of-type {\n",
       "        vertical-align: middle;\n",
       "    }\n",
       "\n",
       "    .dataframe tbody tr th {\n",
       "        vertical-align: top;\n",
       "    }\n",
       "\n",
       "    .dataframe thead th {\n",
       "        text-align: right;\n",
       "    }\n",
       "</style>\n",
       "<table border=\"1\" class=\"dataframe\">\n",
       "  <thead>\n",
       "    <tr style=\"text-align: right;\">\n",
       "      <th></th>\n",
       "      <th>age</th>\n",
       "      <th>sex</th>\n",
       "      <th>cp</th>\n",
       "      <th>trestbps</th>\n",
       "      <th>chol</th>\n",
       "      <th>fbs</th>\n",
       "      <th>restecg</th>\n",
       "      <th>thalach</th>\n",
       "      <th>exang</th>\n",
       "      <th>oldpeak</th>\n",
       "      <th>slope</th>\n",
       "      <th>ca</th>\n",
       "      <th>thal</th>\n",
       "      <th>condition</th>\n",
       "    </tr>\n",
       "  </thead>\n",
       "  <tbody>\n",
       "    <tr>\n",
       "      <th>count</th>\n",
       "      <td>297.000000</td>\n",
       "      <td>297.000000</td>\n",
       "      <td>297.000000</td>\n",
       "      <td>297.000000</td>\n",
       "      <td>297.000000</td>\n",
       "      <td>297.000000</td>\n",
       "      <td>297.000000</td>\n",
       "      <td>297.000000</td>\n",
       "      <td>297.000000</td>\n",
       "      <td>297.000000</td>\n",
       "      <td>297.000000</td>\n",
       "      <td>297.000000</td>\n",
       "      <td>297.000000</td>\n",
       "      <td>297.000000</td>\n",
       "    </tr>\n",
       "    <tr>\n",
       "      <th>mean</th>\n",
       "      <td>54.542088</td>\n",
       "      <td>0.676768</td>\n",
       "      <td>2.158249</td>\n",
       "      <td>131.693603</td>\n",
       "      <td>247.350168</td>\n",
       "      <td>0.144781</td>\n",
       "      <td>0.996633</td>\n",
       "      <td>149.599327</td>\n",
       "      <td>0.326599</td>\n",
       "      <td>1.055556</td>\n",
       "      <td>0.602694</td>\n",
       "      <td>0.676768</td>\n",
       "      <td>0.835017</td>\n",
       "      <td>0.461279</td>\n",
       "    </tr>\n",
       "    <tr>\n",
       "      <th>std</th>\n",
       "      <td>9.049736</td>\n",
       "      <td>0.468500</td>\n",
       "      <td>0.964859</td>\n",
       "      <td>17.762806</td>\n",
       "      <td>51.997583</td>\n",
       "      <td>0.352474</td>\n",
       "      <td>0.994914</td>\n",
       "      <td>22.941562</td>\n",
       "      <td>0.469761</td>\n",
       "      <td>1.166123</td>\n",
       "      <td>0.618187</td>\n",
       "      <td>0.938965</td>\n",
       "      <td>0.956690</td>\n",
       "      <td>0.499340</td>\n",
       "    </tr>\n",
       "    <tr>\n",
       "      <th>min</th>\n",
       "      <td>29.000000</td>\n",
       "      <td>0.000000</td>\n",
       "      <td>0.000000</td>\n",
       "      <td>94.000000</td>\n",
       "      <td>126.000000</td>\n",
       "      <td>0.000000</td>\n",
       "      <td>0.000000</td>\n",
       "      <td>71.000000</td>\n",
       "      <td>0.000000</td>\n",
       "      <td>0.000000</td>\n",
       "      <td>0.000000</td>\n",
       "      <td>0.000000</td>\n",
       "      <td>0.000000</td>\n",
       "      <td>0.000000</td>\n",
       "    </tr>\n",
       "    <tr>\n",
       "      <th>25%</th>\n",
       "      <td>48.000000</td>\n",
       "      <td>0.000000</td>\n",
       "      <td>2.000000</td>\n",
       "      <td>120.000000</td>\n",
       "      <td>211.000000</td>\n",
       "      <td>0.000000</td>\n",
       "      <td>0.000000</td>\n",
       "      <td>133.000000</td>\n",
       "      <td>0.000000</td>\n",
       "      <td>0.000000</td>\n",
       "      <td>0.000000</td>\n",
       "      <td>0.000000</td>\n",
       "      <td>0.000000</td>\n",
       "      <td>0.000000</td>\n",
       "    </tr>\n",
       "    <tr>\n",
       "      <th>50%</th>\n",
       "      <td>56.000000</td>\n",
       "      <td>1.000000</td>\n",
       "      <td>2.000000</td>\n",
       "      <td>130.000000</td>\n",
       "      <td>243.000000</td>\n",
       "      <td>0.000000</td>\n",
       "      <td>1.000000</td>\n",
       "      <td>153.000000</td>\n",
       "      <td>0.000000</td>\n",
       "      <td>0.800000</td>\n",
       "      <td>1.000000</td>\n",
       "      <td>0.000000</td>\n",
       "      <td>0.000000</td>\n",
       "      <td>0.000000</td>\n",
       "    </tr>\n",
       "    <tr>\n",
       "      <th>75%</th>\n",
       "      <td>61.000000</td>\n",
       "      <td>1.000000</td>\n",
       "      <td>3.000000</td>\n",
       "      <td>140.000000</td>\n",
       "      <td>276.000000</td>\n",
       "      <td>0.000000</td>\n",
       "      <td>2.000000</td>\n",
       "      <td>166.000000</td>\n",
       "      <td>1.000000</td>\n",
       "      <td>1.600000</td>\n",
       "      <td>1.000000</td>\n",
       "      <td>1.000000</td>\n",
       "      <td>2.000000</td>\n",
       "      <td>1.000000</td>\n",
       "    </tr>\n",
       "    <tr>\n",
       "      <th>max</th>\n",
       "      <td>77.000000</td>\n",
       "      <td>1.000000</td>\n",
       "      <td>3.000000</td>\n",
       "      <td>200.000000</td>\n",
       "      <td>564.000000</td>\n",
       "      <td>1.000000</td>\n",
       "      <td>2.000000</td>\n",
       "      <td>202.000000</td>\n",
       "      <td>1.000000</td>\n",
       "      <td>6.200000</td>\n",
       "      <td>2.000000</td>\n",
       "      <td>3.000000</td>\n",
       "      <td>2.000000</td>\n",
       "      <td>1.000000</td>\n",
       "    </tr>\n",
       "  </tbody>\n",
       "</table>\n",
       "</div>"
      ],
      "text/plain": [
       "              age         sex          cp    trestbps        chol         fbs  \\\n",
       "count  297.000000  297.000000  297.000000  297.000000  297.000000  297.000000   \n",
       "mean    54.542088    0.676768    2.158249  131.693603  247.350168    0.144781   \n",
       "std      9.049736    0.468500    0.964859   17.762806   51.997583    0.352474   \n",
       "min     29.000000    0.000000    0.000000   94.000000  126.000000    0.000000   \n",
       "25%     48.000000    0.000000    2.000000  120.000000  211.000000    0.000000   \n",
       "50%     56.000000    1.000000    2.000000  130.000000  243.000000    0.000000   \n",
       "75%     61.000000    1.000000    3.000000  140.000000  276.000000    0.000000   \n",
       "max     77.000000    1.000000    3.000000  200.000000  564.000000    1.000000   \n",
       "\n",
       "          restecg     thalach       exang     oldpeak       slope          ca  \\\n",
       "count  297.000000  297.000000  297.000000  297.000000  297.000000  297.000000   \n",
       "mean     0.996633  149.599327    0.326599    1.055556    0.602694    0.676768   \n",
       "std      0.994914   22.941562    0.469761    1.166123    0.618187    0.938965   \n",
       "min      0.000000   71.000000    0.000000    0.000000    0.000000    0.000000   \n",
       "25%      0.000000  133.000000    0.000000    0.000000    0.000000    0.000000   \n",
       "50%      1.000000  153.000000    0.000000    0.800000    1.000000    0.000000   \n",
       "75%      2.000000  166.000000    1.000000    1.600000    1.000000    1.000000   \n",
       "max      2.000000  202.000000    1.000000    6.200000    2.000000    3.000000   \n",
       "\n",
       "             thal   condition  \n",
       "count  297.000000  297.000000  \n",
       "mean     0.835017    0.461279  \n",
       "std      0.956690    0.499340  \n",
       "min      0.000000    0.000000  \n",
       "25%      0.000000    0.000000  \n",
       "50%      0.000000    0.000000  \n",
       "75%      2.000000    1.000000  \n",
       "max      2.000000    1.000000  "
      ]
     },
     "execution_count": 106,
     "metadata": {},
     "output_type": "execute_result"
    }
   ],
   "source": [
    "Archivo.describe()"
   ]
  },
  {
   "cell_type": "code",
   "execution_count": 107,
   "id": "8b31a387-5291-4f66-b580-bf8b683363df",
   "metadata": {},
   "outputs": [
    {
     "data": {
      "text/plain": [
       "Text(0.5, 1.0, 'Relación entre Edad y Colesterol')"
      ]
     },
     "execution_count": 107,
     "metadata": {},
     "output_type": "execute_result"
    },
    {
     "data": {
      "image/png": "[encoded data removed]",
      "text/plain": [
       "<Figure size 500x200 with 1 Axes>"
      ]
     },
     "metadata": {},
     "output_type": "display_data"
    }
   ],
   "source": [
    "plt.figure(figsize=(5, 2))\n",
    "sns.scatterplot(x=\"age\", y=\"chol\", data=Archivo)\n",
    "plt.xlabel(\"Edad\", fontsize=12)\n",
    "plt.ylabel(\"Colesterol\", fontsize=12)\n",
    "plt.title(\"Relación entre Edad y Colesterol\", fontsize=14)\n"
   ]
  },
  {
   "cell_type": "code",
   "execution_count": 108,
   "id": "636b651a-fc4d-4fcf-b477-8fd2eae0b2bb",
   "metadata": {},
   "outputs": [
    {
     "data": {
      "text/plain": [
       "Text(0.5, 1.0, 'Gráfica de valores atípicos de cp')"
      ]
     },
     "execution_count": 108,
     "metadata": {},
     "output_type": "execute_result"
    },
    {
     "data": {
      "image/png": "[encoded data removed]",
      "text/plain": [
       "<Figure size 500x200 with 1 Axes>"
      ]
     },
     "metadata": {},
     "output_type": "display_data"
    }
   ],
   "source": [
    "plt.figure(figsize=(5, 2))\n",
    "sns.boxplot(x=Archivo[\"cp\"])\n",
    "plt.title(\"Gráfica de valores atípicos de cp\", fontsize=14)\n"
   ]
  },
  {
   "cell_type": "code",
   "execution_count": 112,
   "id": "de3c6a1c-9389-40fe-9945-0efc3fefcdc1",
   "metadata": {},
   "outputs": [
    {
     "data": {
      "text/plain": [
       "Text(0.5, 1.0, 'Gráfica de valores atípicos de exang')"
      ]
     },
     "execution_count": 112,
     "metadata": {},
     "output_type": "execute_result"
    },
    {
     "data": {
      "image/png": "[encoded data removed]",
      "text/plain": [
       "<Figure size 500x200 with 1 Axes>"
      ]
     },
     "metadata": {},
     "output_type": "display_data"
    }
   ],
   "source": [
    "plt.figure(figsize=(5, 2))\n",
    "sns.boxplot(x=Archivo[\"ca\"])\n",
    "plt.title(\"Gráfica de valores atípicos de ca / \", fontsize=14)"
   ]
  },
  {
   "cell_type": "code",
   "execution_count": 124,
   "id": "74158de7-27e1-449f-9ca4-c9ea2ff25951",
   "metadata": {},
   "outputs": [
    {
     "data": {
      "text/plain": [
       "Text(0.5, 1.0, 'Gráfica de valores atípicos de oldpeak ')"
      ]
     },
     "execution_count": 124,
     "metadata": {},
     "output_type": "execute_result"
    },
    {
     "data": {
      "image/png": "[encoded data removed]",
      "text/plain": [
       "<Figure size 500x200 with 1 Axes>"
      ]
     },
     "metadata": {},
     "output_type": "display_data"
    }
   ],
   "source": [
    "plt.figure(figsize=(5, 2))\n",
    "sns.boxplot(x=Archivo[\"oldpeak\"])\n",
    "plt.title(\"Gráfica de valores atípicos de oldpeak \", fontsize=14)"
   ]
  },
  {
   "cell_type": "code",
   "execution_count": 127,
   "id": "c44b108d-224a-4baa-83e8-e50010886ac4",
   "metadata": {},
   "outputs": [],
   "source": [
    "# 2 Preprocesar los datos limpiándolos, tratando valores faltantes y transformándolos según sea necesario"
   ]
  },
  {
   "cell_type": "code",
   "execution_count": 129,
   "id": "eb818083-f75b-4e8e-9c00-b28abd50b720",
   "metadata": {},
   "outputs": [
    {
     "name": "stdout",
     "output_type": "stream",
     "text": [
      "Registros con valor 0 en cp: 23\n"
     ]
    }
   ],
   "source": [
    "print(\"Registros con valor 0 en cp:\", (Archivo[\"cp\"] == 0).sum()) \n",
    "#Consulta de valor de cp con 23 registros en 0\n"
   ]
  },
  {
   "cell_type": "code",
   "execution_count": 133,
   "id": "ebb6fed6-3615-4040-b488-e211c8ef0150",
   "metadata": {},
   "outputs": [],
   "source": [
    "Archivo[\"cp\"]=Archivo[\"cp\"].replace(0,Archivo[\"cp\"].mean())\n",
    "#Reemplazo de valores en 0 por la media "
   ]
  },
  {
   "cell_type": "code",
   "execution_count": 134,
   "id": "abd60fcb-b0f3-4e4b-a4b4-9a45b7f2a4d7",
   "metadata": {},
   "outputs": [
    {
     "name": "stdout",
     "output_type": "stream",
     "text": [
      "Registros con valor 0 en cp: 0\n"
     ]
    }
   ],
   "source": [
    "print(\"Registros con valor 0 en cp:\", (Archivo[\"cp\"] == 0).sum()) \n",
    "#Consulta de registros con valor 0 una vez reemplazados los datos"
   ]
  },
  {
   "cell_type": "code",
   "execution_count": 141,
   "id": "521caf99-d478-4d8c-a997-cdae3919ec50",
   "metadata": {},
   "outputs": [
    {
     "name": "stdout",
     "output_type": "stream",
     "text": [
      "La cantidad de datos atípicos corresponde a 2\n"
     ]
    }
   ],
   "source": [
    "conteo_minimo=0\n",
    "conteo_maximo=5\n",
    "Total_atipicos=((Archivo[\"oldpeak\"]<conteo_minimo)|(Archivo[\"oldpeak\"]>conteo_maximo)).sum()\n",
    "print (\"La cantidad de datos atípicos corresponde a {}\".format(Total_atipicos))"
   ]
  },
  {
   "cell_type": "code",
   "execution_count": 148,
   "id": "2fd66fe0-a9c9-4033-8a5f-79e36b725a02",
   "metadata": {},
   "outputs": [],
   "source": [
    "Archivo=Archivo[(Archivo[\"oldpeak\"]<conteo_maximo)&(Archivo[\"oldpeak\"]>conteo_minimo)]"
   ]
  },
  {
   "cell_type": "code",
   "execution_count": 166,
   "id": "7c5df4ac-ecc8-4f27-9070-37ab1b048eae",
   "metadata": {},
   "outputs": [],
   "source": [
    "Archivo[\"oldpeak\"]=Archivo[\"oldpeak\"].replace(6.2,Archivo[\"oldpeak\"].mean())"
   ]
  },
  {
   "cell_type": "code",
   "execution_count": 168,
   "id": "222efcd6-1c49-483f-ac5a-e365e01685c3",
   "metadata": {},
   "outputs": [
    {
     "name": "stdout",
     "output_type": "stream",
     "text": [
      "La cantidad de datos atípicos corresponde a 0\n"
     ]
    }
   ],
   "source": [
    "conteo_minimo=0\n",
    "conteo_maximo=5\n",
    "Total_atipicos=((Archivo[\"oldpeak\"]<conteo_minimo)|(Archivo[\"oldpeak\"]>conteo_maximo)).sum()\n",
    "print (\"La cantidad de datos atípicos corresponde a {}\".format(Total_atipicos))\n",
    "#Ahora hacemos reemplazo de los valores atípicos por la media y ya no se encuentran resultados en la busqueda"
   ]
  },
  {
   "cell_type": "code",
   "execution_count": 158,
   "id": "6df5492e-3537-4ded-88d7-d6cfca8f08c9",
   "metadata": {},
   "outputs": [
    {
     "name": "stdout",
     "output_type": "stream",
     "text": [
      "La cantidad de datos atípicos corresponde a 0\n"
     ]
    }
   ],
   "source": [
    "conteo_minimo=100\n",
    "conteo_maximo=160\n",
    "Total_atipicos=((Archivo[\"trestbps\"]<conteo_minimo)|(Archivo[\"trestbps\"]>conteo_maximo)).sum()\n",
    "print (\"La cantidad de datos atípicos corresponde a {}\".format(Total_atipicos))"
   ]
  },
  {
   "cell_type": "code",
   "execution_count": 164,
   "id": "f5f2d7b8-8551-4f12-a622-dad3bdddf2b6",
   "metadata": {},
   "outputs": [],
   "source": [
    "Archivo=Archivo[(Archivo[\"trestbps\"]<conteo_maximo)&(Archivo[\"trestbps\"]>conteo_minimo)]"
   ]
  },
  {
   "cell_type": "code",
   "execution_count": 165,
   "id": "41574f5b-d39a-47f0-a235-1380041a0654",
   "metadata": {},
   "outputs": [],
   "source": [
    "Archivo[\"trestbps\"]=Archivo[\"trestbps\"].replace(200,Archivo[\"trestbps\"].mean())\n",
    "#Para estos valores atípicos hacemos reemplazo de los valores por la media"
   ]
  },
  {
   "cell_type": "code",
   "execution_count": 149,
   "id": "df68eadf-9ffb-40b1-8ccf-b80ac79a4525",
   "metadata": {},
   "outputs": [
    {
     "name": "stdout",
     "output_type": "stream",
     "text": [
      "<class 'pandas.core.frame.DataFrame'>\n",
      "Index: 0 entries\n",
      "Data columns (total 14 columns):\n",
      " #   Column     Non-Null Count  Dtype  \n",
      "---  ------     --------------  -----  \n",
      " 0   age        0 non-null      int64  \n",
      " 1   sex        0 non-null      int64  \n",
      " 2   cp         0 non-null      float64\n",
      " 3   trestbps   0 non-null      int64  \n",
      " 4   chol       0 non-null      int64  \n",
      " 5   fbs        0 non-null      int64  \n",
      " 6   restecg    0 non-null      int64  \n",
      " 7   thalach    0 non-null      int64  \n",
      " 8   exang      0 non-null      int64  \n",
      " 9   oldpeak    0 non-null      float64\n",
      " 10  slope      0 non-null      int64  \n",
      " 11  ca         0 non-null      int64  \n",
      " 12  thal       0 non-null      int64  \n",
      " 13  condition  0 non-null      int64  \n",
      "dtypes: float64(2), int64(12)\n",
      "memory usage: 0.0 bytes\n"
     ]
    }
   ],
   "source": [
    "Archivo.info(300)"
   ]
  },
  {
   "cell_type": "code",
   "execution_count": 151,
   "id": "1d54e597-f856-407d-bb6a-a8ab5298295c",
   "metadata": {},
   "outputs": [],
   "source": [
    "# 3 Seleccionar las características más relevantes para entrenar el modelo utilizando selección de características"
   ]
  },
  {
   "cell_type": "code",
   "execution_count": 184,
   "id": "ab917e8a-02b4-465a-b676-a19396f0796a",
   "metadata": {},
   "outputs": [
    {
     "data": {
      "text/plain": [
       "condition\n",
       "0    160\n",
       "1    137\n",
       "Name: count, dtype: int64"
      ]
     },
     "execution_count": 184,
     "metadata": {},
     "output_type": "execute_result"
    }
   ],
   "source": [
    "Archivo[\"condition\"].value_counts()\n",
    "# En este conteo tenemos los pacientes con riesgo de enfermedad cardiaca, correspondiendo \n",
    "0= no hay riesgo de enfermedad\n",
    "1= si hay riesgo de enfermedad"
   ]
  },
  {
   "cell_type": "code",
   "execution_count": 187,
   "id": "d9269c8b-ec6c-4cb2-8e80-f116c0f40b60",
   "metadata": {},
   "outputs": [
    {
     "data": {
      "text/html": [
       "<div>\n",
       "<style scoped>\n",
       "    .dataframe tbody tr th:only-of-type {\n",
       "        vertical-align: middle;\n",
       "    }\n",
       "\n",
       "    .dataframe tbody tr th {\n",
       "        vertical-align: top;\n",
       "    }\n",
       "\n",
       "    .dataframe thead th {\n",
       "        text-align: right;\n",
       "    }\n",
       "</style>\n",
       "<table border=\"1\" class=\"dataframe\">\n",
       "  <thead>\n",
       "    <tr style=\"text-align: right;\">\n",
       "      <th></th>\n",
       "      <th>condition</th>\n",
       "    </tr>\n",
       "  </thead>\n",
       "  <tbody>\n",
       "    <tr>\n",
       "      <th>0</th>\n",
       "      <td>0</td>\n",
       "    </tr>\n",
       "    <tr>\n",
       "      <th>1</th>\n",
       "      <td>0</td>\n",
       "    </tr>\n",
       "    <tr>\n",
       "      <th>2</th>\n",
       "      <td>0</td>\n",
       "    </tr>\n",
       "    <tr>\n",
       "      <th>3</th>\n",
       "      <td>1</td>\n",
       "    </tr>\n",
       "    <tr>\n",
       "      <th>4</th>\n",
       "      <td>0</td>\n",
       "    </tr>\n",
       "    <tr>\n",
       "      <th>...</th>\n",
       "      <td>...</td>\n",
       "    </tr>\n",
       "    <tr>\n",
       "      <th>292</th>\n",
       "      <td>1</td>\n",
       "    </tr>\n",
       "    <tr>\n",
       "      <th>293</th>\n",
       "      <td>1</td>\n",
       "    </tr>\n",
       "    <tr>\n",
       "      <th>294</th>\n",
       "      <td>1</td>\n",
       "    </tr>\n",
       "    <tr>\n",
       "      <th>295</th>\n",
       "      <td>0</td>\n",
       "    </tr>\n",
       "    <tr>\n",
       "      <th>296</th>\n",
       "      <td>1</td>\n",
       "    </tr>\n",
       "  </tbody>\n",
       "</table>\n",
       "<p>297 rows × 1 columns</p>\n",
       "</div>"
      ],
      "text/plain": [
       "     condition\n",
       "0            0\n",
       "1            0\n",
       "2            0\n",
       "3            1\n",
       "4            0\n",
       "..         ...\n",
       "292          1\n",
       "293          1\n",
       "294          1\n",
       "295          0\n",
       "296          1\n",
       "\n",
       "[297 rows x 1 columns]"
      ]
     },
     "execution_count": 187,
     "metadata": {},
     "output_type": "execute_result"
    }
   ],
   "source": [
    "Archivo[[\"condition\"]].head(300)"
   ]
  },
  {
   "cell_type": "code",
   "execution_count": 186,
   "id": "f122f44c-2b12-4029-910e-f8b636b2ee9a",
   "metadata": {},
   "outputs": [],
   "source": [
    "# 4 Dividir el dataset en Train y Test para evaluar correctamente el modelo."
   ]
  },
  {
   "cell_type": "code",
   "execution_count": 191,
   "id": "3b077976-395a-463f-8846-11065b3002d1",
   "metadata": {},
   "outputs": [],
   "source": [
    "x= Archivo.drop(\"condition\",axis=1)\n",
    "y= Archivo[\"condition\"]\n",
    "x_train, x_test, y_train, y_test = train_test_split(x, y, test_size=0.25, stratify=y, random_state = 0)"
   ]
  },
  {
   "cell_type": "code",
   "execution_count": 192,
   "id": "316877bd-f50e-4391-9fec-1da403d235f0",
   "metadata": {},
   "outputs": [
    {
     "name": "stdout",
     "output_type": "stream",
     "text": [
      "     age  sex  cp  trestbps  chol  fbs  restecg  thalach  exang  oldpeak  \\\n",
      "234   56    0   3       200   288    1        2      133      1      4.0   \n",
      "82    66    0   2       146   278    0        2      152      0      0.0   \n",
      "36    56    1   1       120   240    0        0      169      0      0.0   \n",
      "237   56    1   3       132   184    0        2      105      1      2.1   \n",
      "133   47    1   2       108   243    0        0      152      0      0.0   \n",
      "..   ...  ...  ..       ...   ...  ...      ...      ...    ...      ...   \n",
      "291   40    1   3       110   167    0        2      114      1      2.0   \n",
      "195   61    0   3       130   330    0        2      169      0      0.0   \n",
      "170   65    0   3       150   225    0        2      114      0      1.0   \n",
      "135   46    0   2       142   177    0        2      160      1      1.4   \n",
      "293   39    1   3       118   219    0        0      140      0      1.2   \n",
      "\n",
      "     slope  ca  thal  \n",
      "234      2   2     2  \n",
      "82       1   1     0  \n",
      "36       2   0     0  \n",
      "237      1   1     1  \n",
      "133      0   0     0  \n",
      "..     ...  ..   ...  \n",
      "291      1   0     2  \n",
      "195      0   0     0  \n",
      "170      1   3     2  \n",
      "135      2   0     0  \n",
      "293      1   0     2  \n",
      "\n",
      "[222 rows x 13 columns]\n"
     ]
    }
   ],
   "source": [
    "print (x_train)"
   ]
  },
  {
   "cell_type": "code",
   "execution_count": 193,
   "id": "d6c2361f-4f06-4181-b9cc-fe3a8d681463",
   "metadata": {},
   "outputs": [
    {
     "name": "stdout",
     "output_type": "stream",
     "text": [
      "234    1\n",
      "82     0\n",
      "36     0\n",
      "237    1\n",
      "133    1\n",
      "      ..\n",
      "291    1\n",
      "195    1\n",
      "170    1\n",
      "135    0\n",
      "293    1\n",
      "Name: condition, Length: 222, dtype: int64\n"
     ]
    }
   ],
   "source": [
    "print (y_train)"
   ]
  },
  {
   "cell_type": "code",
   "execution_count": 194,
   "id": "97b3f90f-3148-4b5b-957e-45dfd040c321",
   "metadata": {},
   "outputs": [],
   "source": [
    "#5 Entrenar el modelo configurando los diferentes hiperparámetros."
   ]
  },
  {
   "cell_type": "code",
   "execution_count": 199,
   "id": "1e00a646-28df-41c9-bde9-b33120f3ad82",
   "metadata": {},
   "outputs": [],
   "source": [
    "modelo_regresion = LogisticRegression(solver = \"liblinear\")\n",
    "modelo_regresion.fit (x_train, y_train)\n",
    "prediction = modelo_regresion.predict(x_test)"
   ]
  },
  {
   "cell_type": "code",
   "execution_count": 201,
   "id": "9820e4b6-d021-4b75-b849-dd26276579cc",
   "metadata": {},
   "outputs": [
    {
     "name": "stdout",
     "output_type": "stream",
     "text": [
      "185    1\n",
      "157    1\n",
      "110    0\n",
      "39     0\n",
      "198    1\n",
      "      ..\n",
      "278    0\n",
      "163    1\n",
      "137    0\n",
      "33     1\n",
      "246    1\n",
      "Name: condition, Length: 75, dtype: int64\n"
     ]
    }
   ],
   "source": [
    "print (y_test)"
   ]
  },
  {
   "cell_type": "code",
   "execution_count": 202,
   "id": "6213165e-8faf-45a9-a3f1-fb10bf9f229d",
   "metadata": {},
   "outputs": [
    {
     "name": "stdout",
     "output_type": "stream",
     "text": [
      "[1 1 0 0 1 0 1 0 0 1 0 1 1 1 1 1 0 0 0 1 0 1 1 1 0 0 0 0 0 1 0 1 1 0 0 0 0\n",
      " 0 1 0 0 0 1 1 1 1 1 0 1 1 0 1 0 0 0 0 0 1 1 1 1 0 0 0 1 0 0 1 0 0 0 1 0 0\n",
      " 1]\n"
     ]
    }
   ],
   "source": [
    "print (prediction)"
   ]
  },
  {
   "cell_type": "code",
   "execution_count": 203,
   "id": "46108dd4-c505-4421-9514-c430dc55f565",
   "metadata": {},
   "outputs": [],
   "source": [
    "#6 Evaluar el desempeño del modelo en el conjunto de Test con métricas como precisión, recall, F1-score, etc."
   ]
  },
  {
   "cell_type": "code",
   "execution_count": 204,
   "id": "aa58f722-1489-4246-b4e3-c0784252b807",
   "metadata": {},
   "outputs": [
    {
     "name": "stdout",
     "output_type": "stream",
     "text": [
      "              precision    recall  f1-score   support\n",
      "\n",
      "           0       0.88      0.90      0.89        40\n",
      "           1       0.88      0.86      0.87        35\n",
      "\n",
      "    accuracy                           0.88        75\n",
      "   macro avg       0.88      0.88      0.88        75\n",
      "weighted avg       0.88      0.88      0.88        75\n",
      "\n"
     ]
    }
   ],
   "source": [
    "print (classification_report(y_test, prediction))"
   ]
  },
  {
   "cell_type": "code",
   "execution_count": 205,
   "id": "a08c1be9-a738-4c13-82ba-95220ad083a0",
   "metadata": {},
   "outputs": [],
   "source": [
    "#7 Realizar las diferentes gráficas que permitan visualizar los resultados del modelo."
   ]
  },
  {
   "cell_type": "code",
   "execution_count": 208,
   "id": "17e450df-a492-463a-bafe-18c7381c8024",
   "metadata": {},
   "outputs": [
    {
     "data": {
      "text/plain": [
       "<sklearn.metrics._plot.confusion_matrix.ConfusionMatrixDisplay at 0x2760bda8ed0>"
      ]
     },
     "execution_count": 208,
     "metadata": {},
     "output_type": "execute_result"
    },
    {
     "data": {
      "image/png": "[encoded data removed]",
      "text/plain": [
       "<Figure size 640x480 with 2 Axes>"
      ]
     },
     "metadata": {},
     "output_type": "display_data"
    }
   ],
   "source": [
    "cm=confusion_matrix(y_test, prediction)\n",
    "disp=metrics.ConfusionMatrixDisplay(confusion_matrix=cm)\n",
    "disp.plot()"
   ]
  },
  {
   "cell_type": "code",
   "execution_count": 212,
   "id": "85cbba9f-cf80-45d9-bb53-f0b35f907691",
   "metadata": {},
   "outputs": [
    {
     "data": {
      "image/png": "[encoded data removed]",
      "text/plain": [
       "<Figure size 640x480 with 1 Axes>"
      ]
     },
     "metadata": {},
     "output_type": "display_data"
    }
   ],
   "source": [
    "from sklearn.metrics import RocCurveDisplay\n",
    "RocCurveDisplay.from_predictions(y_test, prediction)\n",
    "plt.show()"
   ]
  },
  {
   "cell_type": "code",
   "execution_count": 209,
   "id": "10116afa-f101-4b1a-a9ce-7bd2c5173a6a",
   "metadata": {},
   "outputs": [],
   "source": [
    "#8 Interpretar, analizar y documentar los resultados obtenidos"
   ]
  },
  {
   "cell_type": "code",
   "execution_count": null,
   "id": "0c28ad5d-0576-423e-a0d9-241358a39db0",
   "metadata": {},
   "outputs": [],
   "source": [
    "# *En la matriz de confusión podemos interpretar que:\n",
    "    # de 36 personas que se predijo tendrían una enfermedad cardiaca, ninguna de ellas la padecía\n",
    "    # de 5 personas que se predijo que no tendrían enfermedades cardiacas, todas si padecían de estas\n",
    "    # de 4 personas que se informaba que padecían enfermedad cardíaca, los 4 no sufrían enfermedad \n",
    "    # de 30 personas que se predijo tenrían enfermedad cardiaca, las 30 padecian dicha enfermedad\n",
    "\n"
   ]
  }
 ],
 "metadata": {
  "kernelspec": {
   "display_name": "Python 3 (ipykernel)",
   "language": "python",
   "name": "python3"
  },
  "language_info": {
   "codemirror_mode": {
    "name": "ipython",
    "version": 3
   },
   "file_extension": ".py",
   "mimetype": "text/x-python",
   "name": "python",
   "nbconvert_exporter": "python",
   "pygments_lexer": "ipython3",
   "version": "3.11.7"
  }
 },
 "nbformat": 4,
 "nbformat_minor": 5
}
